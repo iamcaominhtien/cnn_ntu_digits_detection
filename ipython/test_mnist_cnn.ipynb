{
 "cells": [
  {
   "cell_type": "code",
   "execution_count": 14,
   "outputs": [
    {
     "data": {
      "text/plain": "'D:\\\\code-example\\\\my_research\\\\mnist_cnn\\\\model'"
     },
     "execution_count": 14,
     "metadata": {},
     "output_type": "execute_result"
    }
   ],
   "source": [
    "from configs import MODEL_PATH\n",
    "import os\n",
    "import numpy as np\n",
    "from keras.datasets import mnist\n",
    "from keras.saving.saving_api import load_model\n",
    "from keras.utils import to_categorical\n",
    "from keras.preprocessing.image import ImageDataGenerator\n",
    "\n",
    "MODEL_PATH"
   ],
   "metadata": {
    "collapsed": false,
    "ExecuteTime": {
     "end_time": "2023-07-17T09:01:09.501311700Z",
     "start_time": "2023-07-17T09:01:09.469317200Z"
    }
   }
  },
  {
   "cell_type": "code",
   "execution_count": 2,
   "metadata": {
    "collapsed": true,
    "ExecuteTime": {
     "end_time": "2023-07-17T08:56:02.232295300Z",
     "start_time": "2023-07-17T08:55:19.541696Z"
    }
   },
   "outputs": [],
   "source": [
    "#load model h5\n",
    "model = load_model(os.path.join(MODEL_PATH, 'v1_cnn_mnist.h5'))"
   ]
  },
  {
   "cell_type": "code",
   "execution_count": 7,
   "outputs": [],
   "source": [
    "(_, _), (X_test, Y_test) = mnist.load_data()"
   ],
   "metadata": {
    "collapsed": false,
    "ExecuteTime": {
     "end_time": "2023-07-17T08:56:52.930268600Z",
     "start_time": "2023-07-17T08:56:51.893865600Z"
    }
   }
  },
  {
   "cell_type": "code",
   "execution_count": 9,
   "outputs": [],
   "source": [
    "#preprocessing\n",
    "x_test = X_test / 255.0\n",
    "x_test = x_test.reshape(-1, 28, 28, 1)\n",
    "\n",
    "y_test = to_categorical(Y_test)"
   ],
   "metadata": {
    "collapsed": false,
    "ExecuteTime": {
     "end_time": "2023-07-17T08:57:24.470668Z",
     "start_time": "2023-07-17T08:57:24.393208100Z"
    }
   }
  },
  {
   "cell_type": "markdown",
   "source": [
    "# Normalization"
   ],
   "metadata": {
    "collapsed": false
   }
  },
  {
   "cell_type": "code",
   "execution_count": 21,
   "outputs": [],
   "source": [
    "def standardize(x):\n",
    "    mean = np.mean(x_test)\n",
    "    std = np.std(x_test)\n",
    "    return (x - mean) / std"
   ],
   "metadata": {
    "collapsed": false,
    "ExecuteTime": {
     "end_time": "2023-07-17T09:13:08.841678500Z",
     "start_time": "2023-07-17T09:13:08.782402700Z"
    }
   }
  },
  {
   "cell_type": "markdown",
   "source": [
    "# Evaluate using x_test"
   ],
   "metadata": {
    "collapsed": false
   }
  },
  {
   "cell_type": "code",
   "execution_count": 10,
   "outputs": [
    {
     "name": "stdout",
     "output_type": "stream",
     "text": [
      "313/313 [==============================] - 27s 69ms/step - loss: 0.0231 - accuracy: 0.9947\n"
     ]
    },
    {
     "data": {
      "text/plain": "[0.023077383637428284, 0.994700014591217]"
     },
     "execution_count": 10,
     "metadata": {},
     "output_type": "execute_result"
    }
   ],
   "source": [
    "model.evaluate(x_test, y_test)"
   ],
   "metadata": {
    "collapsed": false,
    "ExecuteTime": {
     "end_time": "2023-07-17T08:58:15.866797400Z",
     "start_time": "2023-07-17T08:57:48.258443300Z"
    }
   }
  },
  {
   "cell_type": "markdown",
   "source": [
    "# Evaluate using generator"
   ],
   "metadata": {
    "collapsed": false
   }
  },
  {
   "cell_type": "code",
   "execution_count": 13,
   "outputs": [
    {
     "name": "stdout",
     "output_type": "stream",
     "text": [
      "79/79 [==============================] - 22s 261ms/step - loss: 0.0270 - accuracy: 0.9950\n"
     ]
    },
    {
     "data": {
      "text/plain": "[0.027008920907974243, 0.9950000047683716]"
     },
     "execution_count": 13,
     "metadata": {},
     "output_type": "execute_result"
    }
   ],
   "source": [
    "\n",
    "# With data augmentation to prevent overfitting\n",
    "batch_size = 128\n",
    "\n",
    "datagen = ImageDataGenerator(\n",
    "    featurewise_center=False,  # set input mean to 0 over the dataset\n",
    "    samplewise_center=False,  # set each sample mean to 0\n",
    "    featurewise_std_normalization=False,  # divide inputs by std of the dataset\n",
    "    samplewise_std_normalization=False,  # divide each input by its std\n",
    "    zca_whitening=False,  # apply ZCA whitening\n",
    "    rotation_range=15,  # randomly rotate images in the range (degrees, 0 to 180)\n",
    "    zoom_range=0.01,  # Randomly zoom image\n",
    "    width_shift_range=0.1,  # randomly shift images horizontally (fraction of total width)\n",
    "    height_shift_range=0.1,  # randomly shift images vertically (fraction of total height)\n",
    "    horizontal_flip=False,  # randomly flip images\n",
    "    vertical_flip=False)  # randomly flip images\n",
    "\n",
    "# datagen.fit(X_train)\n",
    "test_gen = datagen.flow(x_test, y_test, batch_size=batch_size)\n",
    "model.evaluate(test_gen)"
   ],
   "metadata": {
    "collapsed": false,
    "ExecuteTime": {
     "end_time": "2023-07-17T09:00:12.514668100Z",
     "start_time": "2023-07-17T08:59:50.127365300Z"
    }
   }
  },
  {
   "cell_type": "markdown",
   "source": [
    "# Make predict using x_test"
   ],
   "metadata": {
    "collapsed": false
   }
  },
  {
   "cell_type": "code",
   "execution_count": 15,
   "outputs": [
    {
     "name": "stdout",
     "output_type": "stream",
     "text": [
      "313/313 [==============================] - 25s 75ms/step\n",
      "0.9947\n"
     ]
    }
   ],
   "source": [
    "y_pred = model.predict(x_test)\n",
    "y_pred_class = np.argmax(y_pred, axis=1)\n",
    "y_true_class = np.argmax(y_test, axis=1)\n",
    "\n",
    "print(np.sum(y_pred_class == y_true_class) / len(y_true_class))"
   ],
   "metadata": {
    "collapsed": false,
    "ExecuteTime": {
     "end_time": "2023-07-17T09:01:55.739696700Z",
     "start_time": "2023-07-17T09:01:30.210180200Z"
    }
   }
  },
  {
   "cell_type": "markdown",
   "source": [
    "# Make predict using generator"
   ],
   "metadata": {
    "collapsed": false
   }
  },
  {
   "cell_type": "code",
   "execution_count": 18,
   "outputs": [
    {
     "name": "stderr",
     "output_type": "stream",
     "text": [
      "C:\\Users\\iamca\\AppData\\Local\\Temp\\ipykernel_12348\\2216938917.py:1: UserWarning: `Model.predict_generator` is deprecated and will be removed in a future version. Please use `Model.predict`, which supports generators.\n",
      "  y_pred = model.predict_generator(datagen.flow(x_test, None, batch_size=batch_size))\n"
     ]
    },
    {
     "name": "stdout",
     "output_type": "stream",
     "text": [
      "0.0968\n"
     ]
    }
   ],
   "source": [
    "y_pred = model.predict_generator(datagen.flow(x_test, None, batch_size=batch_size))\n",
    "y_pred_class = np.argmax(y_pred, axis=1)\n",
    "y_true_class = np.argmax(y_test, axis=1)\n",
    "\n",
    "print(np.sum(y_pred_class == y_true_class) / len(y_true_class))"
   ],
   "metadata": {
    "collapsed": false,
    "ExecuteTime": {
     "end_time": "2023-07-17T09:06:51.162570Z",
     "start_time": "2023-07-17T09:06:32.788965300Z"
    }
   }
  },
  {
   "cell_type": "code",
   "execution_count": null,
   "outputs": [],
   "source": [],
   "metadata": {
    "collapsed": false
   }
  }
 ],
 "metadata": {
  "kernelspec": {
   "display_name": "Python 3",
   "language": "python",
   "name": "python3"
  },
  "language_info": {
   "codemirror_mode": {
    "name": "ipython",
    "version": 2
   },
   "file_extension": ".py",
   "mimetype": "text/x-python",
   "name": "python",
   "nbconvert_exporter": "python",
   "pygments_lexer": "ipython2",
   "version": "2.7.6"
  }
 },
 "nbformat": 4,
 "nbformat_minor": 0
}
