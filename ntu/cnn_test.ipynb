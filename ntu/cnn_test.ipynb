{
 "cells": [
  {
   "cell_type": "code",
   "execution_count": 8,
   "metadata": {
    "collapsed": true,
    "ExecuteTime": {
     "end_time": "2023-07-21T08:42:38.615556800Z",
     "start_time": "2023-07-21T08:42:37.097943600Z"
    }
   },
   "outputs": [],
   "source": [
    "import os\n",
    "\n",
    "import cv2\n",
    "import numpy as np\n",
    "from keras.saving.saving_api import load_model\n",
    "from keras.utils import to_categorical\n",
    "\n",
    "model = load_model(r'D:\\code-example\\my_research\\mnist_cnn\\ntu\\model\\v1_ntu_handwriting_digits.h5')"
   ]
  },
  {
   "cell_type": "code",
   "execution_count": 9,
   "outputs": [],
   "source": [
    "test_path = r'D:\\code-example\\my_research\\mnist_cnn\\ntu\\data\\test'\n",
    "x = []\n",
    "y = []\n",
    "\n",
    "for folder_number in os.listdir(test_path):\n",
    "    for file_name in os.listdir(os.path.join(test_path, folder_number)):\n",
    "        img = cv2.imread(os.path.join(test_path, folder_number, file_name), 0)\n",
    "        x.append(img)\n",
    "        y.append(folder_number)\n",
    "\n",
    "x = np.array(x, dtype=np.float32)\n",
    "x = x / 255.0\n",
    "x = x.reshape(-1, 28, 28, 1)\n",
    "y = to_categorical(y)"
   ],
   "metadata": {
    "collapsed": false,
    "ExecuteTime": {
     "end_time": "2023-07-21T08:42:41.955359600Z",
     "start_time": "2023-07-21T08:42:38.331609300Z"
    }
   }
  },
  {
   "cell_type": "code",
   "execution_count": 10,
   "outputs": [
    {
     "name": "stdout",
     "output_type": "stream",
     "text": [
      "78/78 [==============================] - 12s 84ms/step - loss: 0.2308 - accuracy: 0.9738\n"
     ]
    },
    {
     "data": {
      "text/plain": "[0.23080725967884064, 0.9737585783004761]"
     },
     "execution_count": 10,
     "metadata": {},
     "output_type": "execute_result"
    }
   ],
   "source": [
    "model.evaluate(x, y)"
   ],
   "metadata": {
    "collapsed": false,
    "ExecuteTime": {
     "end_time": "2023-07-21T08:42:56.125638Z",
     "start_time": "2023-07-21T08:42:43.395213600Z"
    }
   }
  },
  {
   "cell_type": "code",
   "execution_count": 25,
   "outputs": [
    {
     "name": "stdout",
     "output_type": "stream",
     "text": [
      "78/78 [==============================] - 5s 68ms/step\n",
      "              precision    recall  f1-score   support\n",
      "\n",
      "           0       1.00      0.99      1.00       404\n",
      "           1       0.94      0.97      0.96        79\n",
      "           2       0.95      0.94      0.94        81\n",
      "           3       0.88      1.00      0.94       131\n",
      "           4       0.90      1.00      0.95        99\n",
      "           5       0.99      0.96      0.97       495\n",
      "           6       0.99      0.98      0.99       304\n",
      "           7       0.96      0.96      0.96       411\n",
      "           8       1.00      0.98      0.99       334\n",
      "           9       0.99      0.99      0.99       139\n",
      "\n",
      "    accuracy                           0.97      2477\n",
      "   macro avg       0.96      0.98      0.97      2477\n",
      "weighted avg       0.97      0.97      0.97      2477\n",
      "\n"
     ]
    }
   ],
   "source": [
    "#create report about precision, recall, f1-score, support\n",
    "from sklearn.metrics import classification_report\n",
    "\n",
    "y_pred = model.predict(x)\n",
    "y_pred = np.argmax(y_pred, axis=1)\n",
    "y_true = np.argmax(y, axis=1)\n",
    "print(classification_report(y_true, y_pred))"
   ],
   "metadata": {
    "collapsed": false,
    "ExecuteTime": {
     "end_time": "2023-07-21T08:56:31.351235Z",
     "start_time": "2023-07-21T08:56:25.814096Z"
    }
   }
  },
  {
   "cell_type": "code",
   "execution_count": 20,
   "outputs": [],
   "source": [
    "train_path = r'D:\\code-example\\my_research\\mnist_cnn\\ntu\\data\\train'\n",
    "x_train = []\n",
    "y_train = []\n",
    "\n",
    "for folder_number in os.listdir(train_path):\n",
    "    folder_number_dir = os.path.join(train_path, folder_number)\n",
    "    for file_name in os.listdir(folder_number_dir):\n",
    "        dir = os.path.join(folder_number_dir, file_name)\n",
    "        img = cv2.imread(dir, 0)\n",
    "        if img is None:\n",
    "            print('none value: ', dir, 'file_name: ', file_name)\n",
    "            break\n",
    "        x_train.append(img)\n",
    "        y_train.append(folder_number)\n",
    "\n",
    "x_train = np.array(x_train, dtype=np.float32)\n",
    "x_train = x_train / 255.0\n",
    "x_train = x_train.reshape(-1, 28, 28, 1)\n",
    "y_train = to_categorical(y_train)"
   ],
   "metadata": {
    "collapsed": false,
    "ExecuteTime": {
     "end_time": "2023-07-21T08:52:02.069462600Z",
     "start_time": "2023-07-21T08:51:51.065855100Z"
    }
   }
  },
  {
   "cell_type": "code",
   "execution_count": 23,
   "outputs": [
    {
     "name": "stdout",
     "output_type": "stream",
     "text": [
      "189/189 [==============================] - 14s 72ms/step - loss: 3.8405e-04 - accuracy: 0.9998\n"
     ]
    },
    {
     "data": {
      "text/plain": "[0.0003840469871647656, 0.9998338222503662]"
     },
     "execution_count": 23,
     "metadata": {},
     "output_type": "execute_result"
    }
   ],
   "source": [
    "model.evaluate(x_train, y_train)"
   ],
   "metadata": {
    "collapsed": false,
    "ExecuteTime": {
     "end_time": "2023-07-21T08:55:16.790232Z",
     "start_time": "2023-07-21T08:55:02.734101200Z"
    }
   }
  },
  {
   "cell_type": "code",
   "execution_count": 24,
   "outputs": [
    {
     "name": "stdout",
     "output_type": "stream",
     "text": [
      "189/189 [==============================] - 14s 72ms/step\n",
      "              precision    recall  f1-score   support\n",
      "\n",
      "           0       1.00      1.00      1.00       576\n",
      "           1       1.00      1.00      1.00       584\n",
      "           2       1.00      1.00      1.00       535\n",
      "           3       1.00      1.00      1.00       576\n",
      "           4       1.00      1.00      1.00       602\n",
      "           5       1.00      1.00      1.00       624\n",
      "           6       1.00      1.00      1.00       621\n",
      "           7       1.00      1.00      1.00       652\n",
      "           8       1.00      1.00      1.00       668\n",
      "           9       1.00      1.00      1.00       579\n",
      "\n",
      "    accuracy                           1.00      6017\n",
      "   macro avg       1.00      1.00      1.00      6017\n",
      "weighted avg       1.00      1.00      1.00      6017\n",
      "\n"
     ]
    }
   ],
   "source": [
    "#create report about precision, recall, f1-score, support\n",
    "from sklearn.metrics import classification_report\n",
    "\n",
    "y_pred = model.predict(x_train)\n",
    "y_pred = np.argmax(y_pred, axis=1)\n",
    "y_true = np.argmax(y_train, axis=1)\n",
    "print(classification_report(y_true, y_pred))"
   ],
   "metadata": {
    "collapsed": false,
    "ExecuteTime": {
     "end_time": "2023-07-21T08:55:51.702949Z",
     "start_time": "2023-07-21T08:55:37.684283200Z"
    }
   }
  }
 ],
 "metadata": {
  "kernelspec": {
   "display_name": "Python 3",
   "language": "python",
   "name": "python3"
  },
  "language_info": {
   "codemirror_mode": {
    "name": "ipython",
    "version": 2
   },
   "file_extension": ".py",
   "mimetype": "text/x-python",
   "name": "python",
   "nbconvert_exporter": "python",
   "pygments_lexer": "ipython2",
   "version": "2.7.6"
  }
 },
 "nbformat": 4,
 "nbformat_minor": 0
}
